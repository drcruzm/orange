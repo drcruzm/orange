{
  "nbformat": 4,
  "nbformat_minor": 0,
  "metadata": {
    "colab": {
      "provenance": [],
      "authorship_tag": "ABX9TyMX8xuS0gSY63MlWHwWXhCE",
      "include_colab_link": true
    },
    "kernelspec": {
      "name": "python3",
      "display_name": "Python 3"
    },
    "language_info": {
      "name": "python"
    }
  },
  "cells": [
    {
      "cell_type": "markdown",
      "metadata": {
        "id": "view-in-github",
        "colab_type": "text"
      },
      "source": [
        "<a href=\"https://colab.research.google.com/github/drcruzm/orange/blob/main/examenInventario.ipynb\" target=\"_parent\"><img src=\"https://colab.research.google.com/assets/colab-badge.svg\" alt=\"Open In Colab\"/></a>"
      ]
    },
    {
      "cell_type": "code",
      "execution_count": null,
      "metadata": {
        "id": "x_bWT35TDQuo"
      },
      "outputs": [],
      "source": [
        "import numpy as np\n",
        "import pandas as pd\n",
        "\n",
        "# -------------------------------------------------\n",
        "# Parámetros de generación\n",
        "# -------------------------------------------------\n",
        "np.random.seed(2025) # reproducibilidad\n",
        "n = 50               # número de observaciones\n",
        "\n",
        "# Variables independientes (distribuciones plausibles)\n",
        "ventas_previas   = np.random.normal(loc=1200, scale=300, size=n).clip(min=0)\n",
        "gasto_publicidad = np.random.normal(loc=80,   scale=20,  size=n).clip(min=0) # miles de USD\n",
        "temp_media       = np.random.normal(loc=5,    scale=3,   size=n)  # °C\n",
        "dias_hasta_nav   = np.random.randint(30, 120, size=n)   # días\n",
        "competencia      = np.random.randint(0, 11, size=n) # índice 0‑10\n",
        "\n",
        "# Coeficientes \"reales\" (puedes modificarlos)\n",
        "β0 = 200          # intercepto\n",
        "β1 = 0.45         # ventas_previas\n",
        "β2 = 3.2          # gasto_publicidad\n",
        "β3 = -12.0        # temp_media\n",
        "β4 = -1.5         # dias_hasta_nav\n",
        "β5 = -20.0        # competencia\n",
        "\n",
        "# Ruido aleatorio (error)\n",
        "ε = np.random.normal(loc=0, scale=150, size=n)\n",
        "\n",
        "# Variable objetivo (inventario)\n",
        "inventario = (β0 +\n",
        "              β1 * ventas_previas +\n",
        "              β2 * gasto_publicidad +\n",
        "              β3 * temp_media +\n",
        "              β4 * dias_hasta_nav +\n",
        "              β5 * competencia +\n",
        "              ε).round().astype(int)\n",
        "\n",
        "# -------------------------------------------------\n",
        "# Construcción del DataFrame\n",
        "# -------------------------------------------------\n",
        "df = pd.DataFrame({\n",
        "    \"ventas_previas\":   ventas_previas.round(2),\n",
        "    \"gasto_publicidad\": gasto_publicidad.round(2),\n",
        "    \"temp_media\":       temp_media.round(2),\n",
        "    \"dias_hasta_nav\":   dias_hasta_nav,\n",
        "    \"competencia\":      competencia,\n",
        "    \"inventario\":       inventario\n",
        "})\n",
        "\n",
        "# Guardar como CSV (opcional)\n",
        "df.to_csv(\"inventario_navidad.csv\", index=False)\n",
        "\n",
        "# Mostrar las primeras 10 filas\n",
        "print(df.head(5))"
      ]
    },
    {
      "cell_type": "code",
      "source": [
        "import statsmodels.api as sm\n",
        "\n",
        "# Variables independientes (añadir constante para el intercepto)\n",
        "X = df[[\"ventas_previas\", \"gasto_publicidad\", \"temp_media\",\n",
        "        \"dias_hasta_nav\", \"competencia\"]]\n",
        "X = sm.add_constant(X)\n",
        "\n",
        "# Variable dependiente\n",
        "y = df[\"inventario\"]\n",
        "\n",
        "# Ajustar modelo OLS\n",
        "modelo = sm.OLS(y, X).fit()\n",
        "\n",
        "# Resumen del modelo\n",
        "print(modelo.summary())"
      ],
      "metadata": {
        "colab": {
          "base_uri": "https://localhost:8080/"
        },
        "id": "nREjNg8MFzyI",
        "outputId": "c29f0a4d-81cc-40eb-82a4-bcdfba3a6859"
      },
      "execution_count": 2,
      "outputs": [
        {
          "output_type": "stream",
          "name": "stdout",
          "text": [
            "                            OLS Regression Results                            \n",
            "==============================================================================\n",
            "Dep. Variable:             inventario   R-squared:                       0.748\n",
            "Model:                            OLS   Adj. R-squared:                  0.719\n",
            "Method:                 Least Squares   F-statistic:                     26.08\n",
            "Date:                Sun, 28 Sep 2025   Prob (F-statistic):           3.88e-12\n",
            "Time:                        23:16:48   Log-Likelihood:                -304.83\n",
            "No. Observations:                  50   AIC:                             621.7\n",
            "Df Residuals:                      44   BIC:                             633.1\n",
            "Df Model:                           5                                         \n",
            "Covariance Type:            nonrobust                                         \n",
            "====================================================================================\n",
            "                       coef    std err          t      P>|t|      [0.025      0.975]\n",
            "------------------------------------------------------------------------------------\n",
            "const             -138.7533    137.574     -1.009      0.319    -416.015     138.508\n",
            "ventas_previas       0.5495      0.061      9.034      0.000       0.427       0.672\n",
            "gasto_publicidad     3.8252      0.941      4.067      0.000       1.930       5.721\n",
            "temp_media         -10.2603      5.548     -1.849      0.071     -21.443       0.922\n",
            "dias_hasta_nav       0.0248      0.719      0.034      0.973      -1.425       1.474\n",
            "competencia         -9.0267      4.992     -1.808      0.077     -19.088       1.034\n",
            "==============================================================================\n",
            "Omnibus:                        1.271   Durbin-Watson:                   2.058\n",
            "Prob(Omnibus):                  0.530   Jarque-Bera (JB):                1.291\n",
            "Skew:                           0.315   Prob(JB):                        0.524\n",
            "Kurtosis:                       2.527   Cond. No.                     1.07e+04\n",
            "==============================================================================\n",
            "\n",
            "Notes:\n",
            "[1] Standard Errors assume that the covariance matrix of the errors is correctly specified.\n",
            "[2] The condition number is large, 1.07e+04. This might indicate that there are\n",
            "strong multicollinearity or other numerical problems.\n"
          ]
        }
      ]
    },
    {
      "cell_type": "code",
      "source": [
        "import numpy as np\n",
        "import pandas as pd\n",
        "\n",
        "# Fijamos semilla para reproducibilidad\n",
        "np.random.seed(42)\n",
        "\n",
        "# Número de observaciones\n",
        "n = 500\n",
        "\n",
        "# Generamos las variables independientes con distribuciones razonables\n",
        "precio = np.random.uniform(5, 100, n)              # Precio entre $5 y $100\n",
        "promocion = np.random.uniform(0, 50, n)            # Descuento entre 0% y 50%\n",
        "dias_hasta_navidad = np.random.randint(1, 90, n)   # Días desde 1 hasta 89\n",
        "ventas_anterior = np.random.uniform(100, 5000, n)  # Ventas del año pasado\n",
        "gasto_publi = np.random.uniform(1000, 50000, n)    # Gasto en publicidad\n",
        "\n",
        "# Creamos una relación lineal con coeficientes inventados + ruido\n",
        "inventario = (\n",
        "    -0.5 * precio +\n",
        "    1.2 * promocion +\n",
        "    -2.0 * dias_hasta_navidad +\n",
        "    0.8 * ventas_anterior +\n",
        "    0.0003 * gasto_publi +\n",
        "    np.random.normal(0, 100, n)  # Ruido aleatorio\n",
        ")\n",
        "\n",
        "# Redondeamos a enteros positivos\n",
        "inventario = np.clip(inventario, 0, None).astype(int)\n",
        "\n",
        "# Creamos DataFrame\n",
        "df = pd.DataFrame({\n",
        "    'precio': precio,\n",
        "    'promocion': promocion,\n",
        "    'dias_hasta_navidad': dias_hasta_navidad,\n",
        "    'ventas_anterior': ventas_anterior,\n",
        "    'gasto_publi': gasto_publi,\n",
        "    'inventario': inventario\n",
        "})\n",
        "\n",
        "# Guardamos los datos en un archivo CSV\n",
        "df.to_csv('datos_inventario_navidad.csv', index=False)\n",
        "\n",
        "# Mostramos las primeras filas\n",
        "print(df.head())"
      ],
      "metadata": {
        "id": "gLcTWr1mGyUP"
      },
      "execution_count": null,
      "outputs": []
    },
    {
      "cell_type": "code",
      "source": [
        "# Nuevos datos (ejemplo)\n",
        "nuevos_datos = pd.DataFrame({\n",
        "    'ventas_previas': [1000],\n",
        "    'gasto_publicidad': [50],\n",
        "    'temp_media': [4],\n",
        "    'dias_hasta_nav': [60],\n",
        "    'competencia': [5]\n",
        "})\n",
        "nuevos_datos = sm.add_constant(nuevos_datos)  # Añadir intercepto\n",
        "\n",
        "# Predicción\n",
        "prediccion = modelo.predict(nuevos_datos)\n",
        "print(prediccion)  # Ejemplo: ≈ 201.35 + 0.448*1000 + 3.199*50 -11.987*4 -1.502*60 -19.877*5"
      ],
      "metadata": {
        "colab": {
          "base_uri": "https://localhost:8080/"
        },
        "id": "LUAAGaJ-IEp6",
        "outputId": "4ce410e8-5b55-461d-fd36-3dd6e348d8a7"
      },
      "execution_count": 18,
      "outputs": [
        {
          "output_type": "stream",
          "name": "stdout",
          "text": [
            "[489.44]\n"
          ]
        }
      ]
    },
    {
      "cell_type": "code",
      "source": [
        "import pandas as pd\n",
        "\n",
        "df = pd.read_csv('datos_navidad.csv')\n",
        "\n",
        "print(df.head())"
      ],
      "metadata": {
        "id": "LdRIJMlqll7v"
      },
      "execution_count": null,
      "outputs": []
    },
    {
      "cell_type": "code",
      "source": [
        "import pandas as pd\n",
        "\n",
        "df = pd.read_csv('datos_navidad.csv')\n",
        "\n",
        "print(df.head())\n",
        "\n",
        "# Separar en variables independientes (X) y dependiente (y)\n",
        "X = df.drop('inventario', axis=1)\n",
        "y = df['inventario']\n",
        "y.head(3)"
      ],
      "metadata": {
        "id": "jeeLkSiMpw9_"
      },
      "execution_count": null,
      "outputs": []
    },
    {
      "cell_type": "code",
      "source": [
        "import pandas as pd\n",
        "from sklearn.model_selection import train_test_split\n",
        "from sklearn.linear_model import LinearRegression\n",
        "\n",
        "# 1. Cargar y preparar datos\n",
        "df = pd.read_csv('datos_navidad.csv')\n",
        "X = df.drop('inventario', axis=1)\n",
        "y = df['inventario']\n",
        "\n",
        "# 2. Dividir datos\n",
        "X_train, X_test, y_train, y_test = train_test_split(X, y, test_size=0.2, random_state=42)\n",
        "\n",
        "# 3. Entrenar el modelo\n",
        "modelo = LinearRegression()\n",
        "modelo.fit(X_train, y_train)\n",
        "\n",
        "print(\"¡Modelo entrenado exitosamente!\")"
      ],
      "metadata": {
        "colab": {
          "base_uri": "https://localhost:8080/"
        },
        "id": "5-ESVJwNmDBp",
        "outputId": "fbd15727-7e70-4486-bbdf-83a203ebab3a"
      },
      "execution_count": 9,
      "outputs": [
        {
          "output_type": "stream",
          "name": "stdout",
          "text": [
            "¡Modelo entrenado exitosamente!\n"
          ]
        }
      ]
    },
    {
      "cell_type": "code",
      "source": [
        "import matplotlib.pyplot as plt\n",
        "\n",
        "# Graficar valores reales vs. predichos\n",
        "plt.figure(figsize=(10, 6))\n",
        "plt.scatter(y_test, y_pred, alpha=0.5)\n",
        "plt.plot([y_test.min(), y_test.max()], [y_test.min(), y_test.max()], 'r--', lw=2) # Línea de referencia ideal\n",
        "plt.xlabel(\"Valores Reales\")\n",
        "plt.ylabel(\"Valores Predichos\")\n",
        "plt.title(\"Valores Reales vs. Valores Predichos\")\n",
        "plt.grid(True)\n",
        "plt.show()"
      ],
      "metadata": {
        "colab": {
          "base_uri": "https://localhost:8080/",
          "height": 564
        },
        "id": "5wuqJ8xAwWQ1",
        "outputId": "29c2e18b-9454-46cd-8b62-e46ef80f77d5"
      },
      "execution_count": 17,
      "outputs": [
        {
          "output_type": "display_data",
          "data": {
            "text/plain": [
              "<Figure size 1000x600 with 1 Axes>"
            ],
            "image/png": "[encoded data removed]"
          },
          "metadata": {}
        }
      ]
    },
    {
      "cell_type": "code",
      "metadata": {
        "colab": {
          "base_uri": "https://localhost:8080/"
        },
        "id": "18f21f02",
        "outputId": "a6b0ab87-69f0-4251-a1ee-9ef699b758d8"
      },
      "source": [
        "!pip install scikit-learn"
      ],
      "execution_count": 15,
      "outputs": [
        {
          "output_type": "stream",
          "name": "stdout",
          "text": [
            "Requirement already satisfied: scikit-learn in /usr/local/lib/python3.12/dist-packages (1.6.1)\n",
            "Requirement already satisfied: numpy>=1.19.5 in /usr/local/lib/python3.12/dist-packages (from scikit-learn) (2.0.2)\n",
            "Requirement already satisfied: scipy>=1.6.0 in /usr/local/lib/python3.12/dist-packages (from scikit-learn) (1.16.2)\n",
            "Requirement already satisfied: joblib>=1.2.0 in /usr/local/lib/python3.12/dist-packages (from scikit-learn) (1.5.2)\n",
            "Requirement already satisfied: threadpoolctl>=3.1.0 in /usr/local/lib/python3.12/dist-packages (from scikit-learn) (3.6.0)\n"
          ]
        }
      ]
    },
    {
      "cell_type": "code",
      "metadata": {
        "colab": {
          "base_uri": "https://localhost:8080/"
        },
        "id": "26aba629",
        "outputId": "6d9202cd-cce4-4950-85af-f4f49c84878e"
      },
      "source": [
        "from sklearn.linear_model import Lasso, Ridge\n",
        "from sklearn.ensemble import RandomForestRegressor\n",
        "from sklearn.metrics import mean_squared_error, r2_score, mean_absolute_error\n",
        "import pandas as pd\n",
        "\n",
        "# Ya tenemos X_train, X_test, y_train, y_test de pasos anteriores\n",
        "\n",
        "# Diccionario para almacenar los modelos y sus métricas\n",
        "modelos = {\n",
        "    \"Linear Regression\": LinearRegression(),\n",
        "    \"Lasso\": Lasso(random_state=42),\n",
        "    \"Ridge\": Ridge(random_state=42),\n",
        "    \"Random Forest\": RandomForestRegressor(random_state=42)\n",
        "}\n",
        "\n",
        "resultados = {}\n",
        "\n",
        "for nombre, modelo in modelos.items():\n",
        "    # Entrenar el modelo\n",
        "    modelo.fit(X_train, y_train)\n",
        "\n",
        "    # Predecir en el conjunto de prueba\n",
        "    y_pred = modelo.predict(X_test)\n",
        "\n",
        "    # Calcular métricas\n",
        "    mse = mean_squared_error(y_test, y_pred)\n",
        "    mae = mean_absolute_error(y_test, y_pred)\n",
        "    r2 = r2_score(y_test, y_pred)\n",
        "\n",
        "    # Almacenar resultados\n",
        "    resultados[nombre] = {\"MSE\": mse, \"MAE\": mae, \"R2\": r2}\n",
        "\n",
        "# Mostrar resultados\n",
        "print(\"Resultados de los modelos:\")\n",
        "resultados_df = pd.DataFrame(resultados).T\n",
        "print(resultados_df)"
      ],
      "execution_count": 16,
      "outputs": [
        {
          "output_type": "stream",
          "name": "stdout",
          "text": [
            "Resultados de los modelos:\n",
            "                            MSE         MAE        R2\n",
            "Linear Regression   8526.105562   74.569811  0.716508\n",
            "Lasso               8523.451068   74.559217  0.716596\n",
            "Ridge               8526.079175   74.570254  0.716509\n",
            "Random Forest      15932.631560  100.396000  0.470242\n"
          ]
        }
      ]
    },
    {
      "cell_type": "code",
      "metadata": {
        "colab": {
          "base_uri": "https://localhost:8080/"
        },
        "id": "3e29d67c",
        "outputId": "52e5d130-f400-46b7-e4ec-1c5eb4ce69dd"
      },
      "source": [
        "# Mostrar coeficientes del modelo\n",
        "coeficientes = pd.DataFrame({'Variable': X_train.columns, 'Coeficiente': modelo.coef_})\n",
        "print(\"Coeficientes del Modelo:\")\n",
        "print(coeficientes)\n",
        "\n",
        "# También puedes ver el intercepto\n",
        "print(f\"\\nIntercepto: {modelo.intercept_:.2f}\")"
      ],
      "execution_count": 13,
      "outputs": [
        {
          "output_type": "stream",
          "name": "stdout",
          "text": [
            "Coeficientes del Modelo:\n",
            "           Variable  Coeficiente\n",
            "0    ventas_previas     0.527085\n",
            "1  gasto_publicidad     3.971969\n",
            "2        temp_media   -10.217643\n",
            "3    dias_hasta_nav     0.206480\n",
            "4       competencia    -9.062540\n",
            "\n",
            "Intercepto: -134.67\n"
          ]
        }
      ]
    },
    {
      "cell_type": "code",
      "metadata": {
        "colab": {
          "base_uri": "https://localhost:8080/"
        },
        "id": "b7122081",
        "outputId": "91e54401-273c-43b2-b1df-5e528e2b0dc9"
      },
      "source": [
        "# Nuevos datos para predecir (ejemplo)\n",
        "# Asegúrate de que las columnas coincidan con las usadas para entrenar el modelo\n",
        "nuevos_datos = pd.DataFrame({\n",
        "    'ventas_previas': [1500],\n",
        "    'gasto_publicidad': [100],\n",
        "    'temp_media': [8],\n",
        "    'dias_hasta_nav': [45],\n",
        "    'competencia': [3]\n",
        "})\n",
        "\n",
        "# Realizar la predicción\n",
        "prediccion_nuevos_datos = modelo.predict(nuevos_datos)\n",
        "\n",
        "print(f\"La predicción de inventario para los nuevos datos es: {prediccion_nuevos_datos[0]:.2f}\")"
      ],
      "execution_count": 12,
      "outputs": [
        {
          "output_type": "stream",
          "name": "stdout",
          "text": [
            "La predicción de inventario para los nuevos datos es: 953.52\n"
          ]
        }
      ]
    },
    {
      "cell_type": "code",
      "metadata": {
        "colab": {
          "base_uri": "https://localhost:8080/"
        },
        "id": "356ee90d",
        "outputId": "9be54939-8612-499a-8c90-b14a4e48eba7"
      },
      "source": [
        "from sklearn.metrics import mean_squared_error, r2_score, mean_absolute_error\n",
        "\n",
        "# 4. Evaluar el modelo\n",
        "y_pred = modelo.predict(X_test)\n",
        "\n",
        "# Calcular métricas\n",
        "mse = mean_squared_error(y_test, y_pred)\n",
        "r2 = r2_score(y_test, y_pred)\n",
        "mae = mean_absolute_error(y_test, y_pred)\n",
        "\n",
        "print(f\"Error cuadrático medio (MSE): {mse:.2f}\")\n",
        "print(f\"Error Absoluto Medio (MAE): {mae:.2f}\")\n",
        "print(f\"Coeficiente de determinación (R²): {r2:.2f}\")"
      ],
      "execution_count": 14,
      "outputs": [
        {
          "output_type": "stream",
          "name": "stdout",
          "text": [
            "Error cuadrático medio (MSE): 8526.11\n",
            "Error Absoluto Medio (MAE): 74.57\n",
            "Coeficiente de determinación (R²): 0.72\n"
          ]
        }
      ]
    }
  ]
}