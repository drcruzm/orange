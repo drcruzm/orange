{
  "nbformat": 4,
  "nbformat_minor": 0,
  "metadata": {
    "colab": {
      "provenance": [],
      "authorship_tag": "ABX9TyPzUQJinwp5PHxHuX1M5+Ta",
      "include_colab_link": true
    },
    "kernelspec": {
      "name": "python3",
      "display_name": "Python 3"
    },
    "language_info": {
      "name": "python"
    }
  },
  "cells": [
    {
      "cell_type": "markdown",
      "metadata": {
        "id": "view-in-github",
        "colab_type": "text"
      },
      "source": [
        "<a href=\"https://colab.research.google.com/github/drcruzm/orange/blob/main/regresionExamenok.ipynb\" target=\"_parent\"><img src=\"https://colab.research.google.com/assets/colab-badge.svg\" alt=\"Open In Colab\"/></a>"
      ]
    },
    {
      "cell_type": "code",
      "execution_count": 31,
      "metadata": {
        "colab": {
          "base_uri": "https://localhost:8080/"
        },
        "id": "tZhqp22tBoRC",
        "outputId": "dbf87536-8ce1-4021-be95-7583cbc9c147"
      },
      "outputs": [
        {
          "output_type": "stream",
          "name": "stdout",
          "text": [
            "   ventas_previas  gasto_publicidad  temp_media  dias_hasta_navidad  \\\n",
            "0             341        101.588631   -4.534195                  40   \n",
            "1             276        121.958839    4.860767                  54   \n",
            "2             192        194.712408   19.121235                  73   \n",
            "3              60        232.794023    6.623386                  83   \n",
            "4              42        163.676849    1.753483                  72   \n",
            "\n",
            "   competencia  inventario_necesario  \n",
            "0     2.577439                  8619  \n",
            "1     9.630289                  8167  \n",
            "2     3.521835                 13791  \n",
            "3     8.827987                 17755  \n",
            "4     7.495437                 11793  \n"
          ]
        }
      ],
      "source": [
        "import pandas as pd\n",
        "import numpy as np\n",
        "\n",
        "n_samples = 500\n",
        "ventas_previas = np.random.randint(5, 500, n_samples)\n",
        "gasto_publicidad = np.random.uniform(100, 250, n_samples)\n",
        "temp_media = np.random.uniform(-10, 20, n_samples)\n",
        "dias_hasta_navidad = np.random.randint(30, 90, n_samples)\n",
        "competencia = np.random.uniform(1, 10, n_samples)\n",
        "noise = np.random.normal(0, 150, n_samples)\n",
        "inventario_necesario = (1.5 * ventas_previas +\n",
        "                        100 * gasto_publicidad -\n",
        "                        80 * temp_media -\n",
        "                        50 * dias_hasta_navidad -\n",
        "                        120 * competencia +\n",
        "                        noise)\n",
        "inventario_necesario = np.maximum(0, inventario_necesario).astype(int)\n",
        "#\n",
        " #                  Coeficiente  Importancia\n",
        "# competencia         -120.230100   120.230100\n",
        "# gasto_publicidad      99.905256    99.905256\n",
        "# temp_media           -79.809183    79.809183\n",
        "# dias_hasta_navidad   -49.433285    49.433285\n",
        "# ventas_previas         1.536426     1.536426\n",
        "#\n",
        "\n",
        "df = pd.DataFrame({\n",
        "    'ventas_previas': ventas_previas,\n",
        "    'gasto_publicidad': gasto_publicidad,\n",
        "    'temp_media': temp_media,\n",
        "    'dias_hasta_navidad': dias_hasta_navidad,\n",
        "    'competencia': competencia,\n",
        "    'inventario_necesario': inventario_necesario\n",
        "})\n",
        "df.to_csv('datos_navidad.csv', index=False)\n",
        "# Mostrar las primeras 10 filas\n",
        "print(df.head(5))"
      ]
    },
    {
      "cell_type": "code",
      "metadata": {
        "id": "0dcc97db"
      },
      "source": [
        "# Initialize a new git repository\n",
        "!git init\n",
        "\n",
        "# Add your GitHub repository as a remote (replace with your repository URL)\n",
        "!git remote add origin https://github.com/drcruzm/orange.git\n",
        "\n",
        "# Verify the remote was added\n",
        "!git remote -v\n",
        "\n"
      ],
      "execution_count": null,
      "outputs": []
    },
    {
      "cell_type": "code",
      "source": [
        "\n",
        "!git add .\n",
        "!git commit -m \"Update notebook with model training and evaluation\"\n",
        "!git push --set-upstream origin master"
      ],
      "metadata": {
        "colab": {
          "base_uri": "https://localhost:8080/"
        },
        "outputId": "2ec9d138-8c87-45d0-8e46-27b53fa344ed",
        "id": "vmgAWEZOxGWr"
      },
      "execution_count": 43,
      "outputs": [
        {
          "output_type": "stream",
          "name": "stdout",
          "text": [
            "On branch master\n",
            "nothing to commit, working tree clean\n",
            "fatal: could not read Username for 'https://github.com': No such device or address\n"
          ]
        }
      ]
    },
    {
      "cell_type": "code",
      "source": [
        "!git config --global user.email \"vcruz@anahuacmayab.edu.mx\"\n",
        "!git config --global user.name \"drcruzm\"\n"
      ],
      "metadata": {
        "id": "2fv3oostucO7"
      },
      "execution_count": 40,
      "outputs": []
    },
    {
      "cell_type": "code",
      "source": [
        "!git add .\n",
        "!git commit -m \"Update notebook with model training and evaluation\"\n",
        "!git push --set-upstream origin master"
      ],
      "metadata": {
        "id": "p0ZIS-uewjY0"
      },
      "execution_count": null,
      "outputs": []
    },
    {
      "cell_type": "code",
      "source": [
        "\n",
        "import pandas as pd\n",
        "from sklearn.model_selection import train_test_split\n",
        "from sklearn.linear_model import LinearRegression\n",
        "from sklearn.metrics import r2_score, mean_absolute_error\n",
        "\n",
        "# 1. Cargar y preparar datos\n",
        "df = pd.read_csv('datos_navidad.csv')\n",
        "X = df.drop('inventario_necesario', axis=1)\n",
        "y = df['inventario_necesario']\n",
        "\n",
        "# 2. Dividir datos\n",
        "X_train, X_test, y_train, y_test = train_test_split(X, y, test_size=0.2, random_state=42)\n",
        "\n",
        "# 3. Entrenar el modelo\n",
        "modelo = LinearRegression()\n",
        "modelo.fit(X_train, y_train)\n",
        "\n",
        "print(\"¡Modelo entrenado exitosamente!\")"
      ],
      "metadata": {
        "colab": {
          "base_uri": "https://localhost:8080/"
        },
        "id": "uF-ZbrGib0HL",
        "outputId": "072cfe48-c42d-4347-f55e-ce2aee27fc5a"
      },
      "execution_count": 32,
      "outputs": [
        {
          "output_type": "stream",
          "name": "stdout",
          "text": [
            "¡Modelo entrenado exitosamente!\n"
          ]
        }
      ]
    },
    {
      "cell_type": "code",
      "source": [
        "#print(X.head(10))\n",
        "print(y.head(10))"
      ],
      "metadata": {
        "id": "de2QHkUkhby9"
      },
      "execution_count": null,
      "outputs": []
    },
    {
      "cell_type": "code",
      "source": [
        "# 4. Hacer predicciones\n",
        "y_pred = modelo.predict(X_test)\n",
        "\n",
        "# 5. Evaluar el modelo\n",
        "r2 = r2_score(y_test, y_pred)\n",
        "mae = mean_absolute_error(y_test, y_pred)\n",
        "\n",
        "print(f\"Coeficiente de Determinación (R²): {r2:.4f}\")\n",
        "print(f\"Error Absoluto Medio (MAE): {mae:.2f} unidades\")"
      ],
      "metadata": {
        "colab": {
          "base_uri": "https://localhost:8080/"
        },
        "id": "IjVNX5Ptmr6U",
        "outputId": "1b1efc05-c2e5-4885-cfb6-d59cfd9b67d2"
      },
      "execution_count": 33,
      "outputs": [
        {
          "output_type": "stream",
          "name": "stdout",
          "text": [
            "Coeficiente de Determinación (R²): 0.9988\n",
            "Error Absoluto Medio (MAE): 121.01 unidades\n"
          ]
        }
      ]
    },
    {
      "cell_type": "code",
      "source": [],
      "metadata": {
        "id": "-py06rsun90t"
      },
      "execution_count": null,
      "outputs": []
    },
    {
      "cell_type": "code",
      "metadata": {
        "colab": {
          "base_uri": "https://localhost:8080/"
        },
        "id": "356ee90d",
        "outputId": "3f615181-c09f-46ed-e77d-c5bcc68baef3"
      },
      "source": [
        "from sklearn.metrics import mean_squared_error, r2_score, mean_absolute_error\n",
        "\n",
        "# 4. Evaluar el modelo\n",
        "y_pred = modelo.predict(X_test)\n",
        "\n",
        "# Calcular métricas\n",
        "mse = mean_squared_error(y_test, y_pred)\n",
        "r2 = r2_score(y_test, y_pred)\n",
        "mae = mean_absolute_error(y_test, y_pred)\n",
        "\n",
        "print(f\"Error cuadrático medio (MSE): {mse:.2f}\")\n",
        "print(f\"Error Absoluto Medio (MAE): {mae:.2f}\")\n",
        "print(f\"Coeficiente de determinación (R²): {r2:.2f}\")"
      ],
      "execution_count": 34,
      "outputs": [
        {
          "output_type": "stream",
          "name": "stdout",
          "text": [
            "Error cuadrático medio (MSE): 24364.63\n",
            "Error Absoluto Medio (MAE): 121.01\n",
            "Coeficiente de determinación (R²): 1.00\n"
          ]
        }
      ]
    },
    {
      "cell_type": "code",
      "source": [
        "import statsmodels.api as sm\n",
        "\n",
        "# Add a constant to the features for statsmodels\n",
        "X_train_sm = sm.add_constant(X_train)\n",
        "\n",
        "# Fit the model using statsmodels\n",
        "modelo_sm = sm.OLS(y_train, X_train_sm).fit()\n",
        "\n",
        "# Print the summary\n",
        "print(modelo_sm.summary())"
      ],
      "metadata": {
        "colab": {
          "base_uri": "https://localhost:8080/"
        },
        "id": "nREjNg8MFzyI",
        "outputId": "710ecfe9-f499-41e0-de9f-b5d0f71e9f66"
      },
      "execution_count": 35,
      "outputs": [
        {
          "output_type": "stream",
          "name": "stdout",
          "text": [
            "                             OLS Regression Results                             \n",
            "================================================================================\n",
            "Dep. Variable:     inventario_necesario   R-squared:                       0.999\n",
            "Model:                              OLS   Adj. R-squared:                  0.999\n",
            "Method:                   Least Squares   F-statistic:                 7.180e+04\n",
            "Date:                  Mon, 29 Sep 2025   Prob (F-statistic):               0.00\n",
            "Time:                          04:33:01   Log-Likelihood:                -2578.0\n",
            "No. Observations:                   400   AIC:                             5168.\n",
            "Df Residuals:                       394   BIC:                             5192.\n",
            "Df Model:                             5                                         \n",
            "Covariance Type:              nonrobust                                         \n",
            "======================================================================================\n",
            "                         coef    std err          t      P>|t|      [0.025      0.975]\n",
            "--------------------------------------------------------------------------------------\n",
            "const               -110.0939     43.865     -2.510      0.012    -196.333     -23.855\n",
            "ventas_previas         1.4975      0.053     28.319      0.000       1.394       1.601\n",
            "gasto_publicidad     100.2261      0.173    580.007      0.000      99.886     100.566\n",
            "temp_media           -79.4966      0.913    -87.116      0.000     -81.291     -77.703\n",
            "dias_hasta_navidad   -49.1178      0.441   -111.423      0.000     -49.984     -48.251\n",
            "competencia         -116.6580      2.899    -40.245      0.000    -122.357    -110.959\n",
            "==============================================================================\n",
            "Omnibus:                        0.898   Durbin-Watson:                   1.840\n",
            "Prob(Omnibus):                  0.638   Jarque-Bera (JB):                0.863\n",
            "Skew:                           0.114   Prob(JB):                        0.650\n",
            "Kurtosis:                       2.985   Cond. No.                     1.92e+03\n",
            "==============================================================================\n",
            "\n",
            "Notes:\n",
            "[1] Standard Errors assume that the covariance matrix of the errors is correctly specified.\n",
            "[2] The condition number is large, 1.92e+03. This might indicate that there are\n",
            "strong multicollinearity or other numerical problems.\n"
          ]
        }
      ]
    },
    {
      "cell_type": "code",
      "source": [
        "import matplotlib.pyplot as plt\n",
        "\n",
        "# Graficar valores reales vs. predichos\n",
        "plt.figure(figsize=(10, 6))\n",
        "plt.scatter(y_test, y_pred, alpha=0.5)\n",
        "plt.plot([y_test.min(), y_test.max()], [y_test.min(), y_test.max()], 'r--', lw=2) # Línea de referencia ideal\n",
        "plt.xlabel(\"Valores Reales\")\n",
        "plt.ylabel(\"Valores Predichos\")\n",
        "plt.title(\"Valores Reales vs. Valores Predichos\")\n",
        "plt.grid(True)\n",
        "plt.show()"
      ],
      "metadata": {
        "colab": {
          "base_uri": "https://localhost:8080/",
          "height": 564
        },
        "id": "5wuqJ8xAwWQ1",
        "outputId": "c6e8e8f4-f737-4962-9fd1-9fda5c1f5e75"
      },
      "execution_count": 36,
      "outputs": [
        {
          "output_type": "display_data",
          "data": {
            "text/plain": [
              "<Figure size 1000x600 with 1 Axes>"
            ],
            "image/png": "[encoded data removed]"
          },
          "metadata": {}
        }
      ]
    },
    {
      "cell_type": "code",
      "source": [
        "# Entrenar con todos los datos para ver los coeficientes generales\n",
        "modelo.fit(X, y)\n",
        "\n",
        "coeficientes = pd.DataFrame(\n",
        "    modelo.coef_,\n",
        "    index=X.columns,\n",
        "    columns=['Coeficiente']\n",
        ")\n",
        "coeficientes['Importancia'] = coeficientes['Coeficiente'].abs()\n",
        "print(coeficientes.sort_values(by='Importancia', ascending=False))"
      ],
      "metadata": {
        "colab": {
          "base_uri": "https://localhost:8080/"
        },
        "id": "sa2aYAgBnCyp",
        "outputId": "a6696e3b-2c9f-4e11-a5c1-a793d57f12c7"
      },
      "execution_count": 14,
      "outputs": [
        {
          "output_type": "stream",
          "name": "stdout",
          "text": [
            "                    Coeficiente  Importancia\n",
            "competencia         -120.230100   120.230100\n",
            "gasto_publicidad      99.905256    99.905256\n",
            "temp_media           -79.809183    79.809183\n",
            "dias_hasta_navidad   -49.433285    49.433285\n",
            "ventas_previas         1.536426     1.536426\n"
          ]
        }
      ]
    }
  ]
}